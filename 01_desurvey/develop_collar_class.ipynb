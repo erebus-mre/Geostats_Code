{
 "cells": [
  {
   "cell_type": "code",
   "execution_count": 4,
   "metadata": {},
   "outputs": [
    {
     "name": "stdout",
     "output_type": "stream",
     "text": [
      "The autoreload extension is already loaded. To reload it, use:\n",
      "  %reload_ext autoreload\n"
     ]
    }
   ],
   "source": [
    "import numpy as np\n",
    "import pandas as pd\n",
    "import matplotlib.pyplot as plt\n",
    "import icecream as ic\n",
    "import sys\n",
    "import os\n",
    "import subprocess\n",
    "\n",
    "sys.path.append('../EGSL/')\n",
    "import egsl\n",
    "\n",
    "%load_ext autoreload\n",
    "%autoreload 2\n",
    "\n",
    "# paths\n",
    "inpath = '../00_Datasets/pegmatite/' "
   ]
  },
  {
   "cell_type": "code",
   "execution_count": null,
   "metadata": {},
   "outputs": [],
   "source": []
  },
  {
   "cell_type": "code",
   "execution_count": 5,
   "metadata": {},
   "outputs": [
    {
     "name": "stdout",
     "output_type": "stream",
     "text": [
      "     DHID Drill_Type        x         y       z\n",
      "0  DH_000         RC  621.435  1245.982  15.178\n",
      "1  DH_001         RC  666.543  1145.125  14.039\n",
      "2  DH_002         RC  566.697  1150.681  13.088\n",
      "3  DH_003         RC  497.355  1156.174  13.210\n",
      "4  DH_004         RC  566.343  1147.535  13.065\n",
      "<class 'pandas.core.frame.DataFrame'>\n"
     ]
    }
   ],
   "source": [
    "collars= pd.read_csv(inpath + 'collars_pegm.csv')\n",
    "print(collars.head())\n",
    "print(type(collars))"
   ]
  },
  {
   "cell_type": "code",
   "execution_count": 6,
   "metadata": {},
   "outputs": [
    {
     "name": "stdout",
     "output_type": "stream",
     "text": [
      "     DHID Drill_Type        x         y       z\n",
      "0  DH_000         RC  621.435  1245.982  15.178\n",
      "1  DH_001         RC  666.543  1145.125  14.039\n",
      "2  DH_002         RC  566.697  1150.681  13.088\n",
      "3  DH_003         RC  497.355  1156.174  13.210\n",
      "4  DH_004         RC  566.343  1147.535  13.065\n",
      "x\n",
      "y\n",
      "z\n",
      "     DHID Drill_Type        x         y       z  DHID_i  Drill_Type_i\n",
      "0  DH_000         RC  621.435  1245.982  15.178       0             0\n",
      "1  DH_001         RC  666.543  1145.125  14.039       1             0\n",
      "2  DH_002         RC  566.697  1150.681  13.088       2             0\n",
      "3  DH_003         RC  497.355  1156.174  13.210       3             0\n",
      "4  DH_004         RC  566.343  1147.535  13.065       4             0\n",
      "{'RC': 0, 'DD': 1}\n"
     ]
    },
    {
     "data": {
      "application/vnd.microsoft.datawrangler.viewer.v0+json": {
       "columns": [
        {
         "name": "index",
         "rawType": "int64",
         "type": "integer"
        },
        {
         "name": "Column",
         "rawType": "object",
         "type": "string"
        }
       ],
       "conversionMethod": "pd.DataFrame",
       "ref": "3ba7abf3-f300-4c8d-b1d9-59b30410c3ae",
       "rows": [
        [
         "1",
         "x"
        ],
        [
         "2",
         "y"
        ],
        [
         "3",
         "z"
        ],
        [
         "4",
         "DHID_i"
        ],
        [
         "5",
         "Drill_Type_i"
        ]
       ],
       "shape": {
        "columns": 1,
        "rows": 5
       }
      },
      "text/html": [
       "<div>\n",
       "<style scoped>\n",
       "    .dataframe tbody tr th:only-of-type {\n",
       "        vertical-align: middle;\n",
       "    }\n",
       "\n",
       "    .dataframe tbody tr th {\n",
       "        vertical-align: top;\n",
       "    }\n",
       "\n",
       "    .dataframe thead th {\n",
       "        text-align: right;\n",
       "    }\n",
       "</style>\n",
       "<table border=\"1\" class=\"dataframe\">\n",
       "  <thead>\n",
       "    <tr style=\"text-align: right;\">\n",
       "      <th></th>\n",
       "      <th>Column</th>\n",
       "    </tr>\n",
       "  </thead>\n",
       "  <tbody>\n",
       "    <tr>\n",
       "      <th>1</th>\n",
       "      <td>x</td>\n",
       "    </tr>\n",
       "    <tr>\n",
       "      <th>2</th>\n",
       "      <td>y</td>\n",
       "    </tr>\n",
       "    <tr>\n",
       "      <th>3</th>\n",
       "      <td>z</td>\n",
       "    </tr>\n",
       "    <tr>\n",
       "      <th>4</th>\n",
       "      <td>DHID_i</td>\n",
       "    </tr>\n",
       "    <tr>\n",
       "      <th>5</th>\n",
       "      <td>Drill_Type_i</td>\n",
       "    </tr>\n",
       "  </tbody>\n",
       "</table>\n",
       "</div>"
      ],
      "text/plain": [
       "         Column\n",
       "1             x\n",
       "2             y\n",
       "3             z\n",
       "4        DHID_i\n",
       "5  Drill_Type_i"
      ]
     },
     "execution_count": 6,
     "metadata": {},
     "output_type": "execute_result"
    }
   ],
   "source": [
    "col = egsl.Collar(collars,'DHID','x','y','z')\n",
    "\n",
    "print(col.head())\n",
    "print(col.xcoord)\n",
    "print(col.ycoord)\n",
    "print(col.zcoord)\n",
    "\n",
    "\n",
    "DHID_map = col.alpha_to_int('DHID')\n",
    "drill_type_map  = col.alpha_to_int('Drill_Type')\n",
    "print(col.head())\n",
    "print(drill_type_map)\n",
    "\n",
    "col.numeric_col()"
   ]
  },
  {
   "cell_type": "code",
   "execution_count": 16,
   "metadata": {},
   "outputs": [
    {
     "data": {
      "text/plain": [
       "<matplotlib.legend.Legend at 0x1e0e2194140>"
      ]
     },
     "execution_count": 16,
     "metadata": {},
     "output_type": "execute_result"
    },
    {
     "data": {
      "image/png": "[encoded data removed]",
      "text/plain": [
       "<Figure size 640x480 with 1 Axes>"
      ]
     },
     "metadata": {},
     "output_type": "display_data"
    }
   ],
   "source": [
    "fig,ax1 =plt.subplots()\n",
    "col[col['Drill_Type']=='DD'].loc_plot(ax1, color='red', s=10, label='DD Drilling', alpha=0.5)\n",
    "col[col['Drill_Type']=='RC'].loc_plot(ax1, color='blue', s=10, label='RC Drilling', alpha=0.5)\n",
    "ax1.grid(True)\n",
    "ax1.legend()\n",
    "\n",
    "\n",
    "\n"
   ]
  }
 ],
 "metadata": {
  "kernelspec": {
   "display_name": ".venv",
   "language": "python",
   "name": "python3"
  },
  "language_info": {
   "codemirror_mode": {
    "name": "ipython",
    "version": 3
   },
   "file_extension": ".py",
   "mimetype": "text/x-python",
   "name": "python",
   "nbconvert_exporter": "python",
   "pygments_lexer": "ipython3",
   "version": "3.12.7"
  }
 },
 "nbformat": 4,
 "nbformat_minor": 2
}
