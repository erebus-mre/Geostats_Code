{
 "cells": [
  {
   "cell_type": "raw",
   "metadata": {
    "vscode": {
     "languageId": "raw"
    }
   },
   "source": [
    "---\n",
    "title: QKNA using Python.\n",
    "author: \"[Fanie Nel](mailto:fanie.nel@erebus.co.za)\"\n",
    "date: last-modified\n",
    "\n",
    "format:\n",
    "    html:\n",
    "        theme : yeti\n",
    "        toc : true\n",
    "        toc-location : left\n",
    "        number-sections : true\n",
    "        code-fold : show\n",
    "        code-copy : true\n",
    "        code-line-numbers: true\n",
    "        code-overflow: wrap\n",
    "        code-tools: true\n",
    "        title-block-banner : true\n",
    "        self-contained : true\n",
    "        link-external-icon : true\n",
    "---  "
   ]
  },
  {
   "cell_type": "code",
   "execution_count": 126,
   "metadata": {},
   "outputs": [
    {
     "name": "stdout",
     "output_type": "stream",
     "text": [
      "The autoreload extension is already loaded. To reload it, use:\n",
      "  %reload_ext autoreload\n"
     ]
    }
   ],
   "source": [
    "import numpy as np\n",
    "import pandas as pd\n",
    "import matplotlib.pyplot as plt\n",
    "import icecream as ic\n",
    "import sys\n",
    "import os\n",
    "import subprocess\n",
    "\n",
    "sys.path.append('../EGSL/')\n",
    "import egsl\n",
    "\n",
    "%load_ext autoreload\n",
    "%autoreload 2\n",
    "\n",
    "# paths\n",
    "inpath = '../00_Datasets/' \n",
    "gsl_path = 'C:/Users/fanie/GSL_exe/'\n",
    "gsl_working = '/gsl/'"
   ]
  },
  {
   "cell_type": "code",
   "execution_count": 127,
   "metadata": {},
   "outputs": [],
   "source": [
    "# Import pegm drillhole data\n",
    "\n",
    "collars= pd.read_csv(inpath + 'collars_pegm.csv')\n",
    "survey = pd.read_csv(inpath + 'survey_pegm.csv')\n",
    "survey['dip'] = abs(survey['dip'])\n",
    "lith = pd.read_csv(inpath + 'lith_pegm.csv')\n",
    "assays = pd.read_csv(inpath + 'assay_pegm.csv')\n",
    "\n",
    "# Prepare\n",
    "# initialise gsl object\n",
    "gsl = egsl.GSL(gsl_path, gsl_working)\n",
    "\n",
    "# initialise collar objectS\n",
    "collar = egsl.Collar(collars,'DHID','x','y','z')\n",
    "collar.to_gsl(gsl.working_path+'collars.gsl')\n",
    "\n",
    "# initialise survey object\n",
    "surv = egsl.Survey(survey, 'DHID', 'dip', 'azimuth', 'depth')  \n",
    "surv.map_dhid(collar.dhid_map)\n",
    "surv.to_gsl(gsl.working_path+'survey.gsl')    \n",
    "\n",
    "# initialise assay object\n",
    "# Check for duplicates\n",
    "dup = assays[assays.duplicated(['DHID','from','to'],keep = False)]\n",
    "dup = dup['DHID'].unique()\n",
    "assays = assays[~assays['DHID'].isin(dup)] \n",
    "\n",
    "assay=egsl.Interval(assays,'DHID','from','to')\n",
    "# Check for gaps and overlaps - compositing in GSL will not work with gaps or overlaps\n",
    "assay_filled =assay.fill_gaps()\n",
    "assay_filled.map_dhid(collar.dhid_map)\n",
    "assay_filled.to_gsl(gsl.working_path+'assay.gsl')\n",
    "\n"
   ]
  },
  {
   "cell_type": "markdown",
   "metadata": {},
   "source": [
    "# Compositing using GSL **composite**"
   ]
  },
  {
   "cell_type": "code",
   "execution_count": 128,
   "metadata": {},
   "outputs": [
    {
     "name": "stdout",
     "output_type": "stream",
     "text": [
      "Standard Output: \n",
      " -----------------------------------------------------------------------------\n",
      "                               Compositing                                   \n",
      "\n",
      "                            Version: 1.3.1\n",
      "-----------------------------------------------------------------------------\n",
      "\n",
      "Which parameter file do you want to use?\n",
      "-----------------------------------------------------------------------------\n",
      "\n",
      " INPUT PARAMETERS \n",
      "\n",
      "  data file                   = assay.gsl                               \n",
      "   columns (ID,FROM,TO)       =    4   1   2\n",
      "   number of variables        =    1\n",
      "   column for variables        =    3\n",
      "  var. type (0-cont, 1-cat)   =    0\n",
      "  trimming limits (min, max)  =  -0.10E+04  0.10E+22\n",
      "  composite target size and minimum size fraction =    3.00   0.20\n",
      "  minimum non-null data fraction              =    1.00\n",
      "  output file                 = assay_comps.gsl                         \n",
      "\n",
      "-----------------------------------------------------------------------------\n",
      "\n",
      " READING DATA\n",
      "\n",
      " Summary of grade                                   \n",
      "\n",
      "  Number of data   =          63400\n",
      "  Average          =       149.8704\n",
      "  Variance         =     73624.2957\n",
      "\n",
      "\n",
      "  Number of DH     =            403\n",
      "\n",
      "-----------------------------------------------------------------------------\n",
      "\n",
      " CHECKING DATA\n",
      "\n",
      "  The dataset passed the tests ...\n",
      "\n",
      "-----------------------------------------------------------------------------\n",
      "\n",
      " STARTING THE COMPOSITE CALCULATION\n",
      "\n",
      "\n",
      " Compositing finished!\n",
      "\n",
      "\n"
     ]
    },
    {
     "data": {
      "text/plain": [
       "0"
      ]
     },
     "execution_count": 128,
     "metadata": {},
     "output_type": "execute_result"
    }
   ],
   "source": [
    "gsl.run('compositing','compositing.par')"
   ]
  },
  {
   "cell_type": "markdown",
   "metadata": {},
   "source": [
    "# Desurvey using GSL **dir2car**   \n",
    "* D. S. F. Silva and J. B. Boisvert, 2014, Two New Tools: Directional Survey to GSLIB XYZ Format and Drill Hole Spacing,CCG Paper 2014-404, Centre for Computational Geostatistics, University of Alberta, Edmonton, Canada"
   ]
  },
  {
   "cell_type": "code",
   "execution_count": 129,
   "metadata": {},
   "outputs": [
    {
     "data": {
      "application/vnd.microsoft.datawrangler.viewer.v0+json": {
       "columns": [
        {
         "name": "index",
         "rawType": "int64",
         "type": "integer"
        },
        {
         "name": "DHID",
         "rawType": "object",
         "type": "string"
        },
        {
         "name": "depth",
         "rawType": "float64",
         "type": "float"
        },
        {
         "name": "azimuth",
         "rawType": "float64",
         "type": "float"
        },
        {
         "name": "dip",
         "rawType": "float64",
         "type": "float"
        },
        {
         "name": "dhid_n",
         "rawType": "int64",
         "type": "integer"
        }
       ],
       "conversionMethod": "pd.DataFrame",
       "ref": "f7e55da7-a884-4ca0-8788-7694b67ca59f",
       "rows": [
        [
         "0",
         "DH_000",
         "0.0",
         "90.0",
         "60.0",
         "0"
        ],
        [
         "1",
         "DH_000",
         "5.0",
         "89.055",
         "59.902",
         "0"
        ],
        [
         "2",
         "DH_000",
         "10.0",
         "89.841",
         "60.3",
         "0"
        ],
        [
         "3",
         "DH_000",
         "15.0",
         "90.463",
         "60.785",
         "0"
        ],
        [
         "4",
         "DH_000",
         "20.0",
         "91.273",
         "61.225",
         "0"
        ]
       ],
       "shape": {
        "columns": 5,
        "rows": 5
       }
      },
      "text/html": [
       "<div>\n",
       "<style scoped>\n",
       "    .dataframe tbody tr th:only-of-type {\n",
       "        vertical-align: middle;\n",
       "    }\n",
       "\n",
       "    .dataframe tbody tr th {\n",
       "        vertical-align: top;\n",
       "    }\n",
       "\n",
       "    .dataframe thead th {\n",
       "        text-align: right;\n",
       "    }\n",
       "</style>\n",
       "<table border=\"1\" class=\"dataframe\">\n",
       "  <thead>\n",
       "    <tr style=\"text-align: right;\">\n",
       "      <th></th>\n",
       "      <th>DHID</th>\n",
       "      <th>depth</th>\n",
       "      <th>azimuth</th>\n",
       "      <th>dip</th>\n",
       "      <th>dhid_n</th>\n",
       "    </tr>\n",
       "  </thead>\n",
       "  <tbody>\n",
       "    <tr>\n",
       "      <th>0</th>\n",
       "      <td>DH_000</td>\n",
       "      <td>0.0</td>\n",
       "      <td>90.000</td>\n",
       "      <td>60.000</td>\n",
       "      <td>0</td>\n",
       "    </tr>\n",
       "    <tr>\n",
       "      <th>1</th>\n",
       "      <td>DH_000</td>\n",
       "      <td>5.0</td>\n",
       "      <td>89.055</td>\n",
       "      <td>59.902</td>\n",
       "      <td>0</td>\n",
       "    </tr>\n",
       "    <tr>\n",
       "      <th>2</th>\n",
       "      <td>DH_000</td>\n",
       "      <td>10.0</td>\n",
       "      <td>89.841</td>\n",
       "      <td>60.300</td>\n",
       "      <td>0</td>\n",
       "    </tr>\n",
       "    <tr>\n",
       "      <th>3</th>\n",
       "      <td>DH_000</td>\n",
       "      <td>15.0</td>\n",
       "      <td>90.463</td>\n",
       "      <td>60.785</td>\n",
       "      <td>0</td>\n",
       "    </tr>\n",
       "    <tr>\n",
       "      <th>4</th>\n",
       "      <td>DH_000</td>\n",
       "      <td>20.0</td>\n",
       "      <td>91.273</td>\n",
       "      <td>61.225</td>\n",
       "      <td>0</td>\n",
       "    </tr>\n",
       "  </tbody>\n",
       "</table>\n",
       "</div>"
      ],
      "text/plain": [
       "     DHID  depth  azimuth     dip  dhid_n\n",
       "0  DH_000    0.0   90.000  60.000       0\n",
       "1  DH_000    5.0   89.055  59.902       0\n",
       "2  DH_000   10.0   89.841  60.300       0\n",
       "3  DH_000   15.0   90.463  60.785       0\n",
       "4  DH_000   20.0   91.273  61.225       0"
      ]
     },
     "execution_count": 129,
     "metadata": {},
     "output_type": "execute_result"
    }
   ],
   "source": [
    "survey.head()"
   ]
  },
  {
   "cell_type": "markdown",
   "metadata": {},
   "source": []
  },
  {
   "cell_type": "code",
   "execution_count": 130,
   "metadata": {},
   "outputs": [
    {
     "name": "stdout",
     "output_type": "stream",
     "text": [
      "Standard Output: \n",
      " -----------------------------------------------------------------------------\n",
      "                  Directional to Cartesian Coordinates Conversion            \n",
      "\n",
      "                            Version:    0.001\n",
      "-----------------------------------------------------------------------------\n",
      "\n",
      "Which parameter file do you want to use?\n",
      "-----------------------------------------------------------------------------\n",
      "\n",
      " INPUT PARAMETERS \n",
      "\n",
      "  assay data file             = assay_comps.gsl                         \n",
      "   columns (ID,MD)            =    1   2\n",
      "   number of variables        =    1\n",
      "   columns for variables      =    4\n",
      "   var. type  (0-Con. 1-Cat.) =    0\n",
      "   trimming limits (min, max) =  -0.10E+01  0.10E+22\n",
      "  collar data file            = collars.gsl                             \n",
      "   columns (ID, X, Y and Z)   =    4   1   2   3\n",
      "  survey data file            = survey.gsl                              \n",
      "   columns (ID, MD, DIP, AZM) =    4   1   3   2\n",
      "  output file (xyz coord.)    = composites.gsl                          \n",
      "  output file (DH path)       = survey_stations.gsl                     \n",
      "\n",
      "-----------------------------------------------------------------------------\n",
      "\n",
      " READING ASSAY DATA\n",
      "\n",
      " Continuous Variables Summary: \n",
      "\n",
      " Summary of CMP-grade                               \n",
      "\n",
      "  Number of data   =          20584\n",
      "  Average          =       153.3794\n",
      "  Variance         =     52026.9531\n",
      "\n",
      "\n",
      "\n",
      "-----------------------------------------------------------------------------\n",
      "\n",
      " READING COLLAR DATA\n",
      "\n",
      " Number of data:     410\n",
      "\n",
      "-----------------------------------------------------------------------------\n",
      "\n",
      " READING SURVEY DATA\n",
      "\n",
      " Number of data:   18780\n",
      "\n",
      "-----------------------------------------------------------------------------\n",
      "\n",
      " CALCULATING CARTESIAN COORDINATES \n",
      "\n",
      "-----------------------------------------------------------------------------\n",
      "\n",
      " DIRECTIONAL TO CARTESIAN COORDINATES CONVERSION FINISHED!\n",
      "\n",
      "-----------------------------------------------------------------------------\n",
      "\n"
     ]
    },
    {
     "data": {
      "text/plain": [
       "0"
      ]
     },
     "execution_count": 130,
     "metadata": {},
     "output_type": "execute_result"
    }
   ],
   "source": [
    "gsl.run('dir2car', 'dir2car.par')"
   ]
  },
  {
   "cell_type": "code",
   "execution_count": 131,
   "metadata": {},
   "outputs": [],
   "source": [
    "# Composites to pandas \n",
    "comps = egsl.gsl2df(gsl.working_path+'composites.gsl')"
   ]
  },
  {
   "cell_type": "code",
   "execution_count": 132,
   "metadata": {},
   "outputs": [
    {
     "data": {
      "application/vnd.microsoft.datawrangler.viewer.v0+json": {
       "columns": [
        {
         "name": "index",
         "rawType": "int64",
         "type": "integer"
        },
        {
         "name": "ID",
         "rawType": "float64",
         "type": "float"
        },
        {
         "name": "X",
         "rawType": "float64",
         "type": "float"
        },
        {
         "name": "Y",
         "rawType": "float64",
         "type": "float"
        },
        {
         "name": "Z",
         "rawType": "float64",
         "type": "float"
        },
        {
         "name": "MD",
         "rawType": "float64",
         "type": "float"
        },
        {
         "name": "CMP-grade",
         "rawType": "float64",
         "type": "float"
        }
       ],
       "conversionMethod": "pd.DataFrame",
       "ref": "b431abde-d008-43a2-99c6-a64a2b4f3e00",
       "rows": [
        [
         "0",
         "0.0",
         "622.1853",
         "1245.9839",
         "13.8792",
         "1.5",
         "0.1"
        ],
        [
         "1",
         "0.0",
         "623.6879",
         "1245.9988",
         "11.2826",
         "4.5",
         "0.1"
        ],
        [
         "2",
         "0.0",
         "625.1884",
         "1246.0191",
         "8.6849",
         "7.5",
         "0.1"
        ],
        [
         "3",
         "0.0",
         "626.6783",
         "1246.0274",
         "6.081",
         "10.5",
         "0.1"
        ],
        [
         "4",
         "0.0",
         "628.1558",
         "1246.0251",
         "3.4701",
         "13.5",
         "25.5437"
        ],
        [
         "5",
         "0.0",
         "629.6202",
         "1246.013",
         "0.8518",
         "16.5",
         "20.5417"
        ],
        [
         "6",
         "0.0",
         "631.0721",
         "1245.989",
         "-1.7733",
         "19.5",
         "11.5714"
        ],
        [
         "7",
         "0.0",
         "632.5102",
         "1245.9529",
         "-4.4058",
         "22.5",
         "0.1"
        ],
        [
         "8",
         "0.0",
         "633.9317",
         "1245.9049",
         "-7.0473",
         "25.5",
         "8.0699"
        ],
        [
         "9",
         "0.0",
         "635.3362",
         "1245.8511",
         "-9.6976",
         "28.5",
         "-999.0"
        ],
        [
         "10",
         "0.0",
         "636.7238",
         "1245.795",
         "-12.3568",
         "31.5",
         "-999.0"
        ],
        [
         "11",
         "0.0",
         "638.0946",
         "1245.7389",
         "-15.0247",
         "34.5",
         "-999.0"
        ],
        [
         "12",
         "0.0",
         "639.4481",
         "1245.6812",
         "-17.7014",
         "37.5",
         "-999.0"
        ],
        [
         "13",
         "0.0",
         "640.7835",
         "1245.6186",
         "-20.3871",
         "40.5",
         "-999.0"
        ],
        [
         "14",
         "0.0",
         "642.1055",
         "1245.5613",
         "-23.0795",
         "43.5",
         "-999.0"
        ],
        [
         "15",
         "0.0",
         "643.4172",
         "1245.5143",
         "-25.7771",
         "46.5",
         "37.5486"
        ],
        [
         "16",
         "0.0",
         "644.7231",
         "1245.4724",
         "-28.4777",
         "49.5",
         "32.5133"
        ],
        [
         "17",
         "0.0",
         "646.0211",
         "1245.4308",
         "-31.182",
         "52.5",
         "54.5222"
        ],
        [
         "18",
         "0.0",
         "647.3067",
         "1245.3823",
         "-33.8921",
         "55.5",
         "0.1"
        ],
        [
         "19",
         "0.0",
         "648.5791",
         "1245.326",
         "-36.6084",
         "58.5",
         "38.549"
        ],
        [
         "20",
         "0.0",
         "649.8384",
         "1245.2599",
         "-39.3304",
         "61.5",
         "65.0265"
        ],
        [
         "21",
         "0.0",
         "651.0891",
         "1245.1738",
         "-42.0559",
         "64.5",
         "39.0826"
        ],
        [
         "22",
         "0.0",
         "652.3291",
         "1245.0686",
         "-44.7856",
         "67.5",
         "146.5931"
        ],
        [
         "23",
         "0.0",
         "653.5535",
         "1244.9489",
         "-47.5218",
         "70.5",
         "5.5689"
        ],
        [
         "24",
         "0.0",
         "654.7657",
         "1244.823",
         "-50.2631",
         "73.5",
         "0.1"
        ],
        [
         "25",
         "0.0",
         "655.9678",
         "1244.695",
         "-53.0087",
         "76.5",
         "111.5455"
        ],
        [
         "26",
         "0.0",
         "657.1618",
         "1244.5631",
         "-55.7577",
         "79.5",
         "76.031"
        ],
        [
         "27",
         "0.0",
         "658.3451",
         "1244.4265",
         "-58.5111",
         "82.5",
         "48.5531"
        ],
        [
         "28",
         "0.0",
         "659.5129",
         "1244.2839",
         "-61.2708",
         "85.5",
         "18.074"
        ],
        [
         "29",
         "0.0",
         "660.6743",
         "1244.1349",
         "-64.0329",
         "88.5",
         "27.5445"
        ],
        [
         "30",
         "0.0",
         "661.8336",
         "1243.9807",
         "-66.7955",
         "91.5",
         "146.5598"
        ],
        [
         "31",
         "0.0",
         "662.9882",
         "1243.8301",
         "-69.5603",
         "94.5",
         "343.6401"
        ],
        [
         "32",
         "0.0",
         "664.1356",
         "1243.6846",
         "-72.3284",
         "97.5",
         "17.0736"
        ],
        [
         "33",
         "0.0",
         "665.2725",
         "1243.5441",
         "-75.1011",
         "100.5",
         "10.5709"
        ],
        [
         "34",
         "0.0",
         "666.4083",
         "1243.3965",
         "-77.8738",
         "103.5",
         "142.5581"
        ],
        [
         "35",
         "0.0",
         "667.5477",
         "1243.2359",
         "-80.6444",
         "106.5",
         "79.0656"
        ],
        [
         "36",
         "0.0",
         "668.6877",
         "1243.0654",
         "-83.4141",
         "109.5",
         "0.1"
        ],
        [
         "37",
         "0.0",
         "669.8231",
         "1242.8883",
         "-86.1853",
         "112.5",
         "17.5405"
        ],
        [
         "38",
         "0.0",
         "670.9452",
         "1242.7092",
         "-88.9618",
         "115.5",
         "13.0386"
        ],
        [
         "39",
         "0.0",
         "672.0566",
         "1242.5269",
         "-91.7423",
         "118.5",
         "474.1934"
        ],
        [
         "40",
         "0.0",
         "673.1589",
         "1242.341",
         "-94.5263",
         "121.5",
         "413.1685"
        ],
        [
         "41",
         "0.0",
         "674.254",
         "1242.1539",
         "-97.313",
         "124.5",
         "490.7001"
        ],
        [
         "42",
         "0.0",
         "675.3393",
         "1241.9682",
         "-100.1036",
         "127.5",
         "361.6475"
        ],
        [
         "43",
         "0.0",
         "676.4094",
         "1241.7876",
         "-102.9004",
         "130.5",
         "216.5883"
        ],
        [
         "44",
         "0.0",
         "677.4652",
         "1241.6066",
         "-105.7027",
         "133.5",
         "78.532"
        ],
        [
         "45",
         "0.0",
         "678.5065",
         "1241.4215",
         "-108.51",
         "136.5",
         "42.0171"
        ],
        [
         "46",
         "0.0",
         "679.5316",
         "1241.2279",
         "-111.3228",
         "139.5",
         "260.6063"
        ],
        [
         "47",
         "0.0",
         "680.5431",
         "1241.0253",
         "-114.1399",
         "142.5",
         "153.596"
        ],
        [
         "48",
         "0.0",
         "681.5466",
         "1240.8143",
         "-116.9592",
         "145.5",
         "5.0687"
        ],
        [
         "49",
         "0.0",
         "682.5412",
         "1240.5952",
         "-119.781",
         "148.5",
         "-999.0"
        ]
       ],
       "shape": {
        "columns": 6,
        "rows": 31179
       }
      },
      "text/html": [
       "<div>\n",
       "<style scoped>\n",
       "    .dataframe tbody tr th:only-of-type {\n",
       "        vertical-align: middle;\n",
       "    }\n",
       "\n",
       "    .dataframe tbody tr th {\n",
       "        vertical-align: top;\n",
       "    }\n",
       "\n",
       "    .dataframe thead th {\n",
       "        text-align: right;\n",
       "    }\n",
       "</style>\n",
       "<table border=\"1\" class=\"dataframe\">\n",
       "  <thead>\n",
       "    <tr style=\"text-align: right;\">\n",
       "      <th></th>\n",
       "      <th>ID</th>\n",
       "      <th>X</th>\n",
       "      <th>Y</th>\n",
       "      <th>Z</th>\n",
       "      <th>MD</th>\n",
       "      <th>CMP-grade</th>\n",
       "    </tr>\n",
       "  </thead>\n",
       "  <tbody>\n",
       "    <tr>\n",
       "      <th>0</th>\n",
       "      <td>0.0</td>\n",
       "      <td>622.1853</td>\n",
       "      <td>1245.9839</td>\n",
       "      <td>13.8792</td>\n",
       "      <td>1.50</td>\n",
       "      <td>0.1000</td>\n",
       "    </tr>\n",
       "    <tr>\n",
       "      <th>1</th>\n",
       "      <td>0.0</td>\n",
       "      <td>623.6879</td>\n",
       "      <td>1245.9988</td>\n",
       "      <td>11.2826</td>\n",
       "      <td>4.50</td>\n",
       "      <td>0.1000</td>\n",
       "    </tr>\n",
       "    <tr>\n",
       "      <th>2</th>\n",
       "      <td>0.0</td>\n",
       "      <td>625.1884</td>\n",
       "      <td>1246.0191</td>\n",
       "      <td>8.6849</td>\n",
       "      <td>7.50</td>\n",
       "      <td>0.1000</td>\n",
       "    </tr>\n",
       "    <tr>\n",
       "      <th>3</th>\n",
       "      <td>0.0</td>\n",
       "      <td>626.6783</td>\n",
       "      <td>1246.0274</td>\n",
       "      <td>6.0810</td>\n",
       "      <td>10.50</td>\n",
       "      <td>0.1000</td>\n",
       "    </tr>\n",
       "    <tr>\n",
       "      <th>4</th>\n",
       "      <td>0.0</td>\n",
       "      <td>628.1558</td>\n",
       "      <td>1246.0251</td>\n",
       "      <td>3.4701</td>\n",
       "      <td>13.50</td>\n",
       "      <td>25.5437</td>\n",
       "    </tr>\n",
       "    <tr>\n",
       "      <th>...</th>\n",
       "      <td>...</td>\n",
       "      <td>...</td>\n",
       "      <td>...</td>\n",
       "      <td>...</td>\n",
       "      <td>...</td>\n",
       "      <td>...</td>\n",
       "    </tr>\n",
       "    <tr>\n",
       "      <th>31174</th>\n",
       "      <td>408.0</td>\n",
       "      <td>694.2053</td>\n",
       "      <td>249.4729</td>\n",
       "      <td>-120.3215</td>\n",
       "      <td>132.03</td>\n",
       "      <td>309.5462</td>\n",
       "    </tr>\n",
       "    <tr>\n",
       "      <th>31175</th>\n",
       "      <td>408.0</td>\n",
       "      <td>695.1727</td>\n",
       "      <td>249.3984</td>\n",
       "      <td>-123.1603</td>\n",
       "      <td>135.03</td>\n",
       "      <td>107.5639</td>\n",
       "    </tr>\n",
       "    <tr>\n",
       "      <th>31176</th>\n",
       "      <td>408.0</td>\n",
       "      <td>696.1393</td>\n",
       "      <td>249.3193</td>\n",
       "      <td>-125.9992</td>\n",
       "      <td>138.03</td>\n",
       "      <td>34.4941</td>\n",
       "    </tr>\n",
       "    <tr>\n",
       "      <th>31177</th>\n",
       "      <td>408.0</td>\n",
       "      <td>697.1064</td>\n",
       "      <td>249.2360</td>\n",
       "      <td>-128.8379</td>\n",
       "      <td>141.03</td>\n",
       "      <td>37.6353</td>\n",
       "    </tr>\n",
       "    <tr>\n",
       "      <th>31178</th>\n",
       "      <td>408.0</td>\n",
       "      <td>697.9706</td>\n",
       "      <td>249.1581</td>\n",
       "      <td>-131.3735</td>\n",
       "      <td>143.71</td>\n",
       "      <td>119.0061</td>\n",
       "    </tr>\n",
       "  </tbody>\n",
       "</table>\n",
       "<p>31179 rows × 6 columns</p>\n",
       "</div>"
      ],
      "text/plain": [
       "          ID         X          Y         Z      MD  CMP-grade\n",
       "0        0.0  622.1853  1245.9839   13.8792    1.50     0.1000\n",
       "1        0.0  623.6879  1245.9988   11.2826    4.50     0.1000\n",
       "2        0.0  625.1884  1246.0191    8.6849    7.50     0.1000\n",
       "3        0.0  626.6783  1246.0274    6.0810   10.50     0.1000\n",
       "4        0.0  628.1558  1246.0251    3.4701   13.50    25.5437\n",
       "...      ...       ...        ...       ...     ...        ...\n",
       "31174  408.0  694.2053   249.4729 -120.3215  132.03   309.5462\n",
       "31175  408.0  695.1727   249.3984 -123.1603  135.03   107.5639\n",
       "31176  408.0  696.1393   249.3193 -125.9992  138.03    34.4941\n",
       "31177  408.0  697.1064   249.2360 -128.8379  141.03    37.6353\n",
       "31178  408.0  697.9706   249.1581 -131.3735  143.71   119.0061\n",
       "\n",
       "[31179 rows x 6 columns]"
      ]
     },
     "execution_count": 132,
     "metadata": {},
     "output_type": "execute_result"
    }
   ],
   "source": [
    "comps"
   ]
  },
  {
   "cell_type": "code",
   "execution_count": 133,
   "metadata": {},
   "outputs": [
    {
     "data": {
      "application/vnd.microsoft.datawrangler.viewer.v0+json": {
       "columns": [
        {
         "name": "index",
         "rawType": "object",
         "type": "string"
        },
        {
         "name": "ID",
         "rawType": "float64",
         "type": "float"
        },
        {
         "name": "X",
         "rawType": "float64",
         "type": "float"
        },
        {
         "name": "Y",
         "rawType": "float64",
         "type": "float"
        },
        {
         "name": "Z",
         "rawType": "float64",
         "type": "float"
        },
        {
         "name": "MD",
         "rawType": "float64",
         "type": "float"
        },
        {
         "name": "CMP-grade",
         "rawType": "float64",
         "type": "float"
        }
       ],
       "conversionMethod": "pd.DataFrame",
       "ref": "33fcbfb5-89e2-4f2a-8b26-89807c72c0ba",
       "rows": [
        [
         "count",
         "31179.0",
         "31179.0",
         "31179.0",
         "31179.0",
         "31179.0",
         "31179.0"
        ],
        [
         "mean",
         "202.03823086051509",
         "688.5012657750409",
         "815.3432520414382",
         "-128.46563318579814",
         "152.67676561146925",
         "-238.2082355527759"
        ],
        [
         "std",
         "118.87392489865051",
         "209.50067754534643",
         "422.3841729847272",
         "97.31251481656317",
         "103.66832728898007",
         "576.4364412689649"
        ],
        [
         "min",
         "0.0",
         "9.7857",
         "-1.8222",
         "-469.3611",
         "1.5",
         "-999.0"
        ],
        [
         "25%",
         "103.0",
         "542.26835",
         "449.72749999999996",
         "-190.5206",
         "69.5",
         "-999.0"
        ],
        [
         "50%",
         "195.0",
         "697.3491",
         "842.3026",
         "-111.1476",
         "135.5",
         "12.0049"
        ],
        [
         "75%",
         "303.0",
         "845.5704499999999",
         "1198.146",
         "-50.23995",
         "220.5",
         "123.0502"
        ],
        [
         "max",
         "408.0",
         "1327.8317",
         "1500.0067",
         "23.1216",
         "525.54",
         "4264.2393"
        ]
       ],
       "shape": {
        "columns": 6,
        "rows": 8
       }
      },
      "text/html": [
       "<div>\n",
       "<style scoped>\n",
       "    .dataframe tbody tr th:only-of-type {\n",
       "        vertical-align: middle;\n",
       "    }\n",
       "\n",
       "    .dataframe tbody tr th {\n",
       "        vertical-align: top;\n",
       "    }\n",
       "\n",
       "    .dataframe thead th {\n",
       "        text-align: right;\n",
       "    }\n",
       "</style>\n",
       "<table border=\"1\" class=\"dataframe\">\n",
       "  <thead>\n",
       "    <tr style=\"text-align: right;\">\n",
       "      <th></th>\n",
       "      <th>ID</th>\n",
       "      <th>X</th>\n",
       "      <th>Y</th>\n",
       "      <th>Z</th>\n",
       "      <th>MD</th>\n",
       "      <th>CMP-grade</th>\n",
       "    </tr>\n",
       "  </thead>\n",
       "  <tbody>\n",
       "    <tr>\n",
       "      <th>count</th>\n",
       "      <td>31179.000000</td>\n",
       "      <td>31179.000000</td>\n",
       "      <td>31179.000000</td>\n",
       "      <td>31179.000000</td>\n",
       "      <td>31179.000000</td>\n",
       "      <td>31179.000000</td>\n",
       "    </tr>\n",
       "    <tr>\n",
       "      <th>mean</th>\n",
       "      <td>202.038231</td>\n",
       "      <td>688.501266</td>\n",
       "      <td>815.343252</td>\n",
       "      <td>-128.465633</td>\n",
       "      <td>152.676766</td>\n",
       "      <td>-238.208236</td>\n",
       "    </tr>\n",
       "    <tr>\n",
       "      <th>std</th>\n",
       "      <td>118.873925</td>\n",
       "      <td>209.500678</td>\n",
       "      <td>422.384173</td>\n",
       "      <td>97.312515</td>\n",
       "      <td>103.668327</td>\n",
       "      <td>576.436441</td>\n",
       "    </tr>\n",
       "    <tr>\n",
       "      <th>min</th>\n",
       "      <td>0.000000</td>\n",
       "      <td>9.785700</td>\n",
       "      <td>-1.822200</td>\n",
       "      <td>-469.361100</td>\n",
       "      <td>1.500000</td>\n",
       "      <td>-999.000000</td>\n",
       "    </tr>\n",
       "    <tr>\n",
       "      <th>25%</th>\n",
       "      <td>103.000000</td>\n",
       "      <td>542.268350</td>\n",
       "      <td>449.727500</td>\n",
       "      <td>-190.520600</td>\n",
       "      <td>69.500000</td>\n",
       "      <td>-999.000000</td>\n",
       "    </tr>\n",
       "    <tr>\n",
       "      <th>50%</th>\n",
       "      <td>195.000000</td>\n",
       "      <td>697.349100</td>\n",
       "      <td>842.302600</td>\n",
       "      <td>-111.147600</td>\n",
       "      <td>135.500000</td>\n",
       "      <td>12.004900</td>\n",
       "    </tr>\n",
       "    <tr>\n",
       "      <th>75%</th>\n",
       "      <td>303.000000</td>\n",
       "      <td>845.570450</td>\n",
       "      <td>1198.146000</td>\n",
       "      <td>-50.239950</td>\n",
       "      <td>220.500000</td>\n",
       "      <td>123.050200</td>\n",
       "    </tr>\n",
       "    <tr>\n",
       "      <th>max</th>\n",
       "      <td>408.000000</td>\n",
       "      <td>1327.831700</td>\n",
       "      <td>1500.006700</td>\n",
       "      <td>23.121600</td>\n",
       "      <td>525.540000</td>\n",
       "      <td>4264.239300</td>\n",
       "    </tr>\n",
       "  </tbody>\n",
       "</table>\n",
       "</div>"
      ],
      "text/plain": [
       "                 ID             X             Y             Z            MD  \\\n",
       "count  31179.000000  31179.000000  31179.000000  31179.000000  31179.000000   \n",
       "mean     202.038231    688.501266    815.343252   -128.465633    152.676766   \n",
       "std      118.873925    209.500678    422.384173     97.312515    103.668327   \n",
       "min        0.000000      9.785700     -1.822200   -469.361100      1.500000   \n",
       "25%      103.000000    542.268350    449.727500   -190.520600     69.500000   \n",
       "50%      195.000000    697.349100    842.302600   -111.147600    135.500000   \n",
       "75%      303.000000    845.570450   1198.146000    -50.239950    220.500000   \n",
       "max      408.000000   1327.831700   1500.006700     23.121600    525.540000   \n",
       "\n",
       "          CMP-grade  \n",
       "count  31179.000000  \n",
       "mean    -238.208236  \n",
       "std      576.436441  \n",
       "min     -999.000000  \n",
       "25%     -999.000000  \n",
       "50%       12.004900  \n",
       "75%      123.050200  \n",
       "max     4264.239300  "
      ]
     },
     "execution_count": 133,
     "metadata": {},
     "output_type": "execute_result"
    }
   ],
   "source": [
    "comps.describe()"
   ]
  },
  {
   "cell_type": "code",
   "execution_count": 134,
   "metadata": {},
   "outputs": [],
   "source": [
    "import pyvista as pv\n",
    "from pyvista import examples\n",
    "pv.set_jupyter_backend('trame')\n",
    "pv.global_theme.font.size = 10"
   ]
  },
  {
   "cell_type": "code",
   "execution_count": 135,
   "metadata": {},
   "outputs": [],
   "source": [
    "# plot_array = comps[['X','Y','Z',]].to_numpy()\n",
    "# dh_plot =pv.plot(plot_array,\n",
    "#         scalars = comps['CMP-grade'],\n",
    "#         cmap = 'jet',\n",
    "#         point_size = 2,\n",
    "#         log_scale = True\n",
    "#         )\n"
   ]
  }
 ],
 "metadata": {
  "kernelspec": {
   "display_name": ".venv",
   "language": "python",
   "name": "python3"
  },
  "language_info": {
   "codemirror_mode": {
    "name": "ipython",
    "version": 3
   },
   "file_extension": ".py",
   "mimetype": "text/x-python",
   "name": "python",
   "nbconvert_exporter": "python",
   "pygments_lexer": "ipython3",
   "version": "3.12.7"
  }
 },
 "nbformat": 4,
 "nbformat_minor": 2
}
