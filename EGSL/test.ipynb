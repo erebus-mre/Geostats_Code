{
 "cells": [
  {
   "cell_type": "code",
   "execution_count": 1,
   "metadata": {},
   "outputs": [],
   "source": [
    "import numpy as np\n",
    "import egsl\n",
    "\n",
    "%load_ext autoreload\n",
    "%autoreload 2\n",
    "\n",
    "# 938 549870 5.0                  -nx,xmn,xsiz\n",
    "# 872 6320880 5.0                 -ny,ymn,ysiz\n",
    "# 1 0 1                           -nz,zmn,zsiz\n",
    "\n",
    "\n",
    "testgrid = [[0, 0, 0], [10, 10, 10], [5, 5, 5]]\n",
    "dat1 = np.linspace(0, 1, 125)\n",
    "dat2 = np.random.rand(125)"
   ]
  },
  {
   "cell_type": "code",
   "execution_count": 2,
   "metadata": {},
   "outputs": [
    {
     "name": "stdout",
     "output_type": "stream",
     "text": [
      "5 0.000 10.000\n",
      "5 0.000 10.000\n",
      "5 0.000 10.000\n",
      "\n"
     ]
    }
   ],
   "source": [
    "test = egsl.Grid(testgrid)\n",
    "print(test.gsl_str())\n",
    "test.add_data('dat1', dat1)\n",
    "test.add_data('dat2', dat2)"
   ]
  },
  {
   "cell_type": "code",
   "execution_count": 3,
   "metadata": {},
   "outputs": [
    {
     "data": {
      "text/plain": [
       "dict_keys(['dat1', 'dat2'])"
      ]
     },
     "execution_count": 3,
     "metadata": {},
     "output_type": "execute_result"
    }
   ],
   "source": [
    "test.data.keys()"
   ]
  }
 ],
 "metadata": {
  "kernelspec": {
   "display_name": "EGSL",
   "language": "python",
   "name": "python3"
  },
  "language_info": {
   "codemirror_mode": {
    "name": "ipython",
    "version": 3
   },
   "file_extension": ".py",
   "mimetype": "text/x-python",
   "name": "python",
   "nbconvert_exporter": "python",
   "pygments_lexer": "ipython3",
   "version": "3.12.5"
  }
 },
 "nbformat": 4,
 "nbformat_minor": 2
}
