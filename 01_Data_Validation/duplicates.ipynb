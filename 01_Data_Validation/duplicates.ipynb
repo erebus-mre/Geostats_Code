{
 "cells": [
  {
   "cell_type": "raw",
   "metadata": {
    "vscode": {
     "languageId": "raw"
    }
   },
   "source": [
    "---\n",
    "title: Finding Duplicates using Python and Pandas.\n",
    "author: \"[Fanie Nel](mailto:fanie.nel@erebus.co.za)\"\n",
    "date: last-modified\n",
    "\n",
    "format:\n",
    "    html:\n",
    "        theme : yeti\n",
    "        toc : true\n",
    "        toc-location : left\n",
    "        number-sections : true\n",
    "        code-fold : show\n",
    "        code-copy : true\n",
    "        code-line-numbers: true\n",
    "        code-overflow: wrap\n",
    "        code-tools: true\n",
    "        title-block-banner : true\n",
    "        self-contained : true\n",
    "        link-external-icon : true\n",
    "---  "
   ]
  },
  {
   "cell_type": "markdown",
   "metadata": {},
   "source": [
    "This tutorial provides a simple and easy-to-understand guide for **beginner resource geologists** on how to use the *`pandas`*and `scipy` libraries in Python to find duplicates in drill hole data sets.\n",
    "\n",
    "A simulated collars file, containing the coordinates of drill hole collars will be used to find  \n",
    "\n",
    "* exact duplicates  \n",
    "* partial duplicates\n",
    "* and 'near' duplicates\n",
    "\n",
    "\n",
    "\n"
   ]
  },
  {
   "cell_type": "code",
   "execution_count": null,
   "metadata": {},
   "outputs": [],
   "source": [
    "import numpy as np\n",
    "import pandas as pd\n",
    "import matplotlib.pyplot as plt\n",
    "\n"
   ]
  }
 ],
 "metadata": {
  "language_info": {
   "name": "python"
  }
 },
 "nbformat": 4,
 "nbformat_minor": 2
}
