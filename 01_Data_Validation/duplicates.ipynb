{
 "cells": [
  {
   "cell_type": "raw",
   "metadata": {
    "vscode": {
     "languageId": "raw"
    }
   },
   "source": [
    "---\n",
    "title: Finding Duplicates using Python and Pandas.\n",
    "author: \"[Fanie Nel](mailto:fanie.nel@erebus.co.za)\"\n",
    "date: last-modified\n",
    "\n",
    "format:\n",
    "    html:\n",
    "        theme : yeti\n",
    "        toc : true\n",
    "        toc-location : left\n",
    "        number-sections : true\n",
    "        code-fold : show\n",
    "        code-copy : true\n",
    "        code-line-numbers: true\n",
    "        code-overflow: wrap\n",
    "        code-tools: true\n",
    "        title-block-banner : true\n",
    "        self-contained : true\n",
    "        link-external-icon : true\n",
    "---  "
   ]
  },
  {
   "cell_type": "markdown",
   "metadata": {},
   "source": [
    "This tutorial provides a simple and easy-to-understand guide for **beginner resource geologists** on how to use the *`pandas`*and `scipy` libraries in Python to find duplicates in drill hole data sets.\n",
    "\n",
    "A simulated collars file, containing the coordinates of drill hole collars will be used to find  \n",
    "\n",
    "* exact duplicates  \n",
    "* partial duplicates\n",
    "* and 'near' duplicates"
   ]
  },
  {
   "cell_type": "code",
   "execution_count": 106,
   "metadata": {},
   "outputs": [
    {
     "data": {
      "text/html": [
       "<div>\n",
       "<style scoped>\n",
       "    .dataframe tbody tr th:only-of-type {\n",
       "        vertical-align: middle;\n",
       "    }\n",
       "\n",
       "    .dataframe tbody tr th {\n",
       "        vertical-align: top;\n",
       "    }\n",
       "\n",
       "    .dataframe thead th {\n",
       "        text-align: right;\n",
       "    }\n",
       "</style>\n",
       "<table border=\"1\" class=\"dataframe\">\n",
       "  <thead>\n",
       "    <tr style=\"text-align: right;\">\n",
       "      <th></th>\n",
       "      <th>dhid</th>\n",
       "      <th>x</th>\n",
       "      <th>y</th>\n",
       "      <th>z</th>\n",
       "    </tr>\n",
       "  </thead>\n",
       "  <tbody>\n",
       "    <tr>\n",
       "      <th>0</th>\n",
       "      <td>DH-1</td>\n",
       "      <td>-0.932096</td>\n",
       "      <td>-1.026137</td>\n",
       "      <td>97.937086</td>\n",
       "    </tr>\n",
       "    <tr>\n",
       "      <th>1</th>\n",
       "      <td>DH-2</td>\n",
       "      <td>9.439632</td>\n",
       "      <td>0.554131</td>\n",
       "      <td>117.312559</td>\n",
       "    </tr>\n",
       "    <tr>\n",
       "      <th>2</th>\n",
       "      <td>DH-3</td>\n",
       "      <td>17.622817</td>\n",
       "      <td>1.012468</td>\n",
       "      <td>105.339303</td>\n",
       "    </tr>\n",
       "    <tr>\n",
       "      <th>3</th>\n",
       "      <td>DH-4</td>\n",
       "      <td>30.031428</td>\n",
       "      <td>-0.423953</td>\n",
       "      <td>109.858463</td>\n",
       "    </tr>\n",
       "    <tr>\n",
       "      <th>4</th>\n",
       "      <td>DH-5</td>\n",
       "      <td>38.771637</td>\n",
       "      <td>0.830514</td>\n",
       "      <td>90.951326</td>\n",
       "    </tr>\n",
       "  </tbody>\n",
       "</table>\n",
       "</div>"
      ],
      "text/plain": [
       "   dhid          x         y           z\n",
       "0  DH-1  -0.932096 -1.026137   97.937086\n",
       "1  DH-2   9.439632  0.554131  117.312559\n",
       "2  DH-3  17.622817  1.012468  105.339303\n",
       "3  DH-4  30.031428 -0.423953  109.858463\n",
       "4  DH-5  38.771637  0.830514   90.951326"
      ]
     },
     "metadata": {},
     "output_type": "display_data"
    }
   ],
   "source": [
    "# Import libraries\n",
    "import numpy as np\n",
    "import pandas as pd\n",
    "\n",
    "\n",
    "# Load collars file (hosted on Github)\n",
    "url = 'https://raw.githubusercontent.com/erebus-mre/Geostats_Code/main/00_Datasets/collars.csv'\n",
    "collars = pd.read_csv(url)\n",
    "\n",
    "# Have a look at the first few rows\n",
    "display(collars.head())"
   ]
  },
  {
   "cell_type": "markdown",
   "metadata": {},
   "source": [
    "# Exact Duplicates\n",
    "Exact duplicates are rows that are identical in all columns.\n",
    "\n",
    "These are easily identified using the [`duplicated()`](https://pandas.pydata.org/pandas-docs/stable/reference/api/pandas.DataFrame.duplicated.html) method in `pandas`:"
   ]
  },
  {
   "cell_type": "code",
   "execution_count": 107,
   "metadata": {},
   "outputs": [],
   "source": [
    "# Find exact duplicates\n",
    "dups = collars.duplicated(keep = False)"
   ]
  },
  {
   "cell_type": "markdown",
   "metadata": {},
   "source": [
    "The method returns a series of boolean values, where `True` indicates that the row is one member of a duplicate pair."
   ]
  },
  {
   "cell_type": "code",
   "execution_count": 108,
   "metadata": {},
   "outputs": [
    {
     "data": {
      "text/plain": [
       "0    False\n",
       "1    False\n",
       "2    False\n",
       "3    False\n",
       "4    False\n",
       "dtype: bool"
      ]
     },
     "execution_count": 108,
     "metadata": {},
     "output_type": "execute_result"
    }
   ],
   "source": [
    "dups.head()"
   ]
  },
  {
   "cell_type": "markdown",
   "metadata": {},
   "source": [
    "This series can then be used to filter the original data frame to show only the duplicate rows."
   ]
  },
  {
   "cell_type": "code",
   "execution_count": 109,
   "metadata": {},
   "outputs": [
    {
     "data": {
      "text/html": [
       "<div>\n",
       "<style scoped>\n",
       "    .dataframe tbody tr th:only-of-type {\n",
       "        vertical-align: middle;\n",
       "    }\n",
       "\n",
       "    .dataframe tbody tr th {\n",
       "        vertical-align: top;\n",
       "    }\n",
       "\n",
       "    .dataframe thead th {\n",
       "        text-align: right;\n",
       "    }\n",
       "</style>\n",
       "<table border=\"1\" class=\"dataframe\">\n",
       "  <thead>\n",
       "    <tr style=\"text-align: right;\">\n",
       "      <th></th>\n",
       "      <th>dhid</th>\n",
       "      <th>x</th>\n",
       "      <th>y</th>\n",
       "      <th>z</th>\n",
       "    </tr>\n",
       "  </thead>\n",
       "  <tbody>\n",
       "    <tr>\n",
       "      <th>23</th>\n",
       "      <td>DH-24</td>\n",
       "      <td>9.577436</td>\n",
       "      <td>20.124624</td>\n",
       "      <td>106.695154</td>\n",
       "    </tr>\n",
       "    <tr>\n",
       "      <th>122</th>\n",
       "      <td>DH-24</td>\n",
       "      <td>9.577436</td>\n",
       "      <td>20.124624</td>\n",
       "      <td>106.695154</td>\n",
       "    </tr>\n",
       "    <tr>\n",
       "      <th>77</th>\n",
       "      <td>DH-78</td>\n",
       "      <td>-0.477881</td>\n",
       "      <td>73.579353</td>\n",
       "      <td>98.294610</td>\n",
       "    </tr>\n",
       "    <tr>\n",
       "      <th>124</th>\n",
       "      <td>DH-78</td>\n",
       "      <td>-0.477881</td>\n",
       "      <td>73.579353</td>\n",
       "      <td>98.294610</td>\n",
       "    </tr>\n",
       "    <tr>\n",
       "      <th>80</th>\n",
       "      <td>DH-81</td>\n",
       "      <td>31.380224</td>\n",
       "      <td>69.606047</td>\n",
       "      <td>101.537821</td>\n",
       "    </tr>\n",
       "    <tr>\n",
       "      <th>125</th>\n",
       "      <td>DH-81</td>\n",
       "      <td>31.380224</td>\n",
       "      <td>69.606047</td>\n",
       "      <td>101.537821</td>\n",
       "    </tr>\n",
       "    <tr>\n",
       "      <th>84</th>\n",
       "      <td>DH-85</td>\n",
       "      <td>69.071556</td>\n",
       "      <td>68.889773</td>\n",
       "      <td>103.010377</td>\n",
       "    </tr>\n",
       "    <tr>\n",
       "      <th>121</th>\n",
       "      <td>DH-85</td>\n",
       "      <td>69.071556</td>\n",
       "      <td>68.889773</td>\n",
       "      <td>103.010377</td>\n",
       "    </tr>\n",
       "    <tr>\n",
       "      <th>98</th>\n",
       "      <td>DH-99</td>\n",
       "      <td>100.071209</td>\n",
       "      <td>78.464094</td>\n",
       "      <td>100.010050</td>\n",
       "    </tr>\n",
       "    <tr>\n",
       "      <th>123</th>\n",
       "      <td>DH-99</td>\n",
       "      <td>100.071209</td>\n",
       "      <td>78.464094</td>\n",
       "      <td>100.010050</td>\n",
       "    </tr>\n",
       "  </tbody>\n",
       "</table>\n",
       "</div>"
      ],
      "text/plain": [
       "      dhid           x          y           z\n",
       "23   DH-24    9.577436  20.124624  106.695154\n",
       "122  DH-24    9.577436  20.124624  106.695154\n",
       "77   DH-78   -0.477881  73.579353   98.294610\n",
       "124  DH-78   -0.477881  73.579353   98.294610\n",
       "80   DH-81   31.380224  69.606047  101.537821\n",
       "125  DH-81   31.380224  69.606047  101.537821\n",
       "84   DH-85   69.071556  68.889773  103.010377\n",
       "121  DH-85   69.071556  68.889773  103.010377\n",
       "98   DH-99  100.071209  78.464094  100.010050\n",
       "123  DH-99  100.071209  78.464094  100.010050"
      ]
     },
     "metadata": {},
     "output_type": "display_data"
    }
   ],
   "source": [
    "duplicates = collars[dups].sort_values(by = 'dhid')\n",
    "display(duplicates)"
   ]
  },
  {
   "cell_type": "markdown",
   "metadata": {},
   "source": [
    "The *keep* parameter determines which of the duplicates to mark as `True`. The default is `first`, which marks the first occurrence of the duplicate as `False` and the subsequent occurrences as `True`. Setting *keep* to `last` will mark the last occurrence as `False` and the previous occurrences as `True`.\n",
    "\n",
    "This helps to remove **exact duplicates** from a data file:"
   ]
  },
  {
   "cell_type": "code",
   "execution_count": 110,
   "metadata": {},
   "outputs": [],
   "source": [
    "collars_no_dups = collars[collars.duplicated(keep = 'first') == False]"
   ]
  },
  {
   "cell_type": "markdown",
   "metadata": {},
   "source": [
    "The *pandas* method [`drop_duplicates()`](https://pandas.pydata.org/pandas-docs/stable/reference/api/pandas.Series.drop_duplicates.html#pandas.Series.drop_duplicates) will remove all the duplicates without the need to filter the data frame. "
   ]
  },
  {
   "cell_type": "code",
   "execution_count": 111,
   "metadata": {},
   "outputs": [],
   "source": [
    "collars = collars.drop_duplicates(keep = 'first')"
   ]
  },
  {
   "cell_type": "markdown",
   "metadata": {},
   "source": [
    "# Partial Duplicates\n",
    "Partial duplicates are rows that are identical in some columns but not all. These could occur when one or more of the coordinates in a record are changed without deleting the original record.\n",
    "\n",
    "These holes will not be flagged as duplicated using the `duplicated()` method as implemented above. The **subset** parameter must be used to specify the columns to consider when identifying duplicates:"
   ]
  },
  {
   "cell_type": "markdown",
   "metadata": {},
   "source": [
    "In the example below the *bhid*, *x*, and *y* values are the same but the *z* coordinate differs. Note the subset parameter: it is list of the columns that must be the same in two or more records for them to be considered duplicates.  "
   ]
  },
  {
   "cell_type": "code",
   "execution_count": 112,
   "metadata": {},
   "outputs": [
    {
     "data": {
      "text/html": [
       "<div>\n",
       "<style scoped>\n",
       "    .dataframe tbody tr th:only-of-type {\n",
       "        vertical-align: middle;\n",
       "    }\n",
       "\n",
       "    .dataframe tbody tr th {\n",
       "        vertical-align: top;\n",
       "    }\n",
       "\n",
       "    .dataframe thead th {\n",
       "        text-align: right;\n",
       "    }\n",
       "</style>\n",
       "<table border=\"1\" class=\"dataframe\">\n",
       "  <thead>\n",
       "    <tr style=\"text-align: right;\">\n",
       "      <th></th>\n",
       "      <th>dhid</th>\n",
       "      <th>x</th>\n",
       "      <th>y</th>\n",
       "      <th>z</th>\n",
       "    </tr>\n",
       "  </thead>\n",
       "  <tbody>\n",
       "    <tr>\n",
       "      <th>106</th>\n",
       "      <td>DH-107</td>\n",
       "      <td>70.914712</td>\n",
       "      <td>89.471938</td>\n",
       "      <td>104.296403</td>\n",
       "    </tr>\n",
       "    <tr>\n",
       "      <th>127</th>\n",
       "      <td>DH-107</td>\n",
       "      <td>70.914712</td>\n",
       "      <td>89.471938</td>\n",
       "      <td>105.296403</td>\n",
       "    </tr>\n",
       "    <tr>\n",
       "      <th>27</th>\n",
       "      <td>DH-28</td>\n",
       "      <td>49.208602</td>\n",
       "      <td>19.620317</td>\n",
       "      <td>97.498452</td>\n",
       "    </tr>\n",
       "    <tr>\n",
       "      <th>128</th>\n",
       "      <td>DH-28</td>\n",
       "      <td>49.208602</td>\n",
       "      <td>19.620317</td>\n",
       "      <td>98.498452</td>\n",
       "    </tr>\n",
       "    <tr>\n",
       "      <th>35</th>\n",
       "      <td>DH-36</td>\n",
       "      <td>18.694472</td>\n",
       "      <td>29.944372</td>\n",
       "      <td>114.207091</td>\n",
       "    </tr>\n",
       "    <tr>\n",
       "      <th>129</th>\n",
       "      <td>DH-36</td>\n",
       "      <td>18.694472</td>\n",
       "      <td>29.944372</td>\n",
       "      <td>115.207091</td>\n",
       "    </tr>\n",
       "    <tr>\n",
       "      <th>37</th>\n",
       "      <td>DH-38</td>\n",
       "      <td>39.857632</td>\n",
       "      <td>30.420612</td>\n",
       "      <td>110.844214</td>\n",
       "    </tr>\n",
       "    <tr>\n",
       "      <th>130</th>\n",
       "      <td>DH-38</td>\n",
       "      <td>39.857632</td>\n",
       "      <td>30.420612</td>\n",
       "      <td>111.844214</td>\n",
       "    </tr>\n",
       "    <tr>\n",
       "      <th>62</th>\n",
       "      <td>DH-63</td>\n",
       "      <td>70.043470</td>\n",
       "      <td>50.552525</td>\n",
       "      <td>95.426700</td>\n",
       "    </tr>\n",
       "    <tr>\n",
       "      <th>126</th>\n",
       "      <td>DH-63</td>\n",
       "      <td>70.043470</td>\n",
       "      <td>50.552525</td>\n",
       "      <td>96.426700</td>\n",
       "    </tr>\n",
       "  </tbody>\n",
       "</table>\n",
       "</div>"
      ],
      "text/plain": [
       "       dhid          x          y           z\n",
       "106  DH-107  70.914712  89.471938  104.296403\n",
       "127  DH-107  70.914712  89.471938  105.296403\n",
       "27    DH-28  49.208602  19.620317   97.498452\n",
       "128   DH-28  49.208602  19.620317   98.498452\n",
       "35    DH-36  18.694472  29.944372  114.207091\n",
       "129   DH-36  18.694472  29.944372  115.207091\n",
       "37    DH-38  39.857632  30.420612  110.844214\n",
       "130   DH-38  39.857632  30.420612  111.844214\n",
       "62    DH-63  70.043470  50.552525   95.426700\n",
       "126   DH-63  70.043470  50.552525   96.426700"
      ]
     },
     "metadata": {},
     "output_type": "display_data"
    }
   ],
   "source": [
    "dups = collars.duplicated(subset = ['dhid','x','y'],keep = False)\n",
    "duplicates = collars[dups].sort_values(by = 'dhid')\n",
    "display(duplicates)"
   ]
  },
  {
   "cell_type": "markdown",
   "metadata": {},
   "source": [
    "The data frame can now be exported and the correct coordinates identified. Make sure you use the **keep = False** parameter as one does not know which of the duplicates is the correct one.\n",
    "\n",
    "Remember to check all the possible combinations:  \n",
    "* dhid, x and y are the same but z is different\n",
    "* dhid, x and z are the same but y is different\n",
    "* dhid, y and z are the same but x is different\n",
    "* x,y and z are the same but dhid is different\n",
    "\n",
    "Deleting the duplicate records are a bit more involved. I keep track of the index number of the erroneous records and then use the `.drop()` method to remove them from the original data frame.\n",
    "\n",
    "For example, in the table above records with index numbers 101, 128, 12, 130 and 82 are wrong and must be removed: "
   ]
  },
  {
   "cell_type": "code",
   "execution_count": 113,
   "metadata": {},
   "outputs": [
    {
     "data": {
      "text/html": [
       "<div>\n",
       "<style scoped>\n",
       "    .dataframe tbody tr th:only-of-type {\n",
       "        vertical-align: middle;\n",
       "    }\n",
       "\n",
       "    .dataframe tbody tr th {\n",
       "        vertical-align: top;\n",
       "    }\n",
       "\n",
       "    .dataframe thead th {\n",
       "        text-align: right;\n",
       "    }\n",
       "</style>\n",
       "<table border=\"1\" class=\"dataframe\">\n",
       "  <thead>\n",
       "    <tr style=\"text-align: right;\">\n",
       "      <th></th>\n",
       "      <th>dhid</th>\n",
       "      <th>x</th>\n",
       "      <th>y</th>\n",
       "      <th>z</th>\n",
       "    </tr>\n",
       "  </thead>\n",
       "  <tbody>\n",
       "    <tr>\n",
       "      <th>106</th>\n",
       "      <td>DH-107</td>\n",
       "      <td>70.914712</td>\n",
       "      <td>89.471938</td>\n",
       "      <td>104.296403</td>\n",
       "    </tr>\n",
       "    <tr>\n",
       "      <th>127</th>\n",
       "      <td>DH-107</td>\n",
       "      <td>70.914712</td>\n",
       "      <td>89.471938</td>\n",
       "      <td>105.296403</td>\n",
       "    </tr>\n",
       "    <tr>\n",
       "      <th>35</th>\n",
       "      <td>DH-36</td>\n",
       "      <td>18.694472</td>\n",
       "      <td>29.944372</td>\n",
       "      <td>114.207091</td>\n",
       "    </tr>\n",
       "    <tr>\n",
       "      <th>129</th>\n",
       "      <td>DH-36</td>\n",
       "      <td>18.694472</td>\n",
       "      <td>29.944372</td>\n",
       "      <td>115.207091</td>\n",
       "    </tr>\n",
       "    <tr>\n",
       "      <th>62</th>\n",
       "      <td>DH-63</td>\n",
       "      <td>70.043470</td>\n",
       "      <td>50.552525</td>\n",
       "      <td>95.426700</td>\n",
       "    </tr>\n",
       "    <tr>\n",
       "      <th>126</th>\n",
       "      <td>DH-63</td>\n",
       "      <td>70.043470</td>\n",
       "      <td>50.552525</td>\n",
       "      <td>96.426700</td>\n",
       "    </tr>\n",
       "  </tbody>\n",
       "</table>\n",
       "</div>"
      ],
      "text/plain": [
       "       dhid          x          y           z\n",
       "106  DH-107  70.914712  89.471938  104.296403\n",
       "127  DH-107  70.914712  89.471938  105.296403\n",
       "35    DH-36  18.694472  29.944372  114.207091\n",
       "129   DH-36  18.694472  29.944372  115.207091\n",
       "62    DH-63  70.043470  50.552525   95.426700\n",
       "126   DH-63  70.043470  50.552525   96.426700"
      ]
     },
     "metadata": {},
     "output_type": "display_data"
    }
   ],
   "source": [
    "collars =collars.drop(index =[101, 128, 12, 130, 82])\n",
    "\n",
    "# Confirm that the duplicates have been removed\n",
    "dups = collars.duplicated(subset = ['dhid','x','y'],keep = False)\n",
    "duplicates = collars[dups].sort_values(by = 'dhid')\n",
    "display(duplicates)"
   ]
  },
  {
   "cell_type": "markdown",
   "metadata": {},
   "source": [
    "# Close Collars\n",
    "\n"
   ]
  },
  {
   "cell_type": "markdown",
   "metadata": {},
   "source": [
    "When validating a collar dataset it is worthwhile checking for drill hole collars which lie (uncomfortably) close to one another.   "
   ]
  },
  {
   "cell_type": "code",
   "execution_count": 114,
   "metadata": {},
   "outputs": [
    {
     "name": "stdout",
     "output_type": "stream",
     "text": [
      "       dhid           x          y           z\n",
      "10    DH-11  100.436391  -1.248671   82.953069\n",
      "13    DH-14   20.382481   9.051499  119.513460\n",
      "37    DH-38   39.857632  30.420612  110.844214\n",
      "57    DH-58   20.111327  49.607759  106.457482\n",
      "109  DH-110  100.529449  89.735392  104.911750\n",
      "141   DH-11  100.464807  -0.469951   83.542657\n",
      "142   DH-14   20.410898   9.830219  120.103048\n",
      "143  DH-110  100.557865  90.514111  105.501339\n",
      "144   DH-58   20.139744  50.386479  107.047070\n",
      "145   DH-38   39.886049  31.199332  111.433802\n"
     ]
    }
   ],
   "source": [
    "from scipy.spatial import KDTree\n",
    "\n",
    "# 'collars' is a DataFrame with 'x', 'y', 'z' columns\n",
    "coords = np.array(collars[['x', 'y', 'z']].values)\n",
    "\n",
    "# Create a KDTree\n",
    "tree = KDTree(coords)\n",
    "\n",
    "# Find the nearest neighbor for each point\n",
    "# k=2 because the nearest neighbor of a point is the point itself, so we need the second nearest\n",
    "nnb_dist, nnb_index = tree.query(coords, k=2)\n",
    "\n",
    "# Extract the nearest neighbors (excluding the point itself)\n",
    "nearest_neighbors = nnb_index[:, 1]\n",
    "\n",
    "# Filter records where the nearest neighbor distance is less than 1\n",
    "close_indices = [i for i, dist in enumerate(nnb_dist[:, 1]) if dist < 1]\n",
    "\n",
    "# Return records in collars DataFrame that are within the specified distance\n",
    "close_records = collars.iloc[close_indices].drop_duplicates()\n",
    "\n",
    "print(close_records)"
   ]
  },
  {
   "cell_type": "code",
   "execution_count": 116,
   "metadata": {},
   "outputs": [
    {
     "data": {
      "text/html": [
       "<div>\n",
       "<style scoped>\n",
       "    .dataframe tbody tr th:only-of-type {\n",
       "        vertical-align: middle;\n",
       "    }\n",
       "\n",
       "    .dataframe tbody tr th {\n",
       "        vertical-align: top;\n",
       "    }\n",
       "\n",
       "    .dataframe thead th {\n",
       "        text-align: right;\n",
       "    }\n",
       "</style>\n",
       "<table border=\"1\" class=\"dataframe\">\n",
       "  <thead>\n",
       "    <tr style=\"text-align: right;\">\n",
       "      <th></th>\n",
       "      <th>dhid</th>\n",
       "      <th>x</th>\n",
       "      <th>y</th>\n",
       "      <th>z</th>\n",
       "    </tr>\n",
       "  </thead>\n",
       "  <tbody>\n",
       "    <tr>\n",
       "      <th>0</th>\n",
       "      <td>DH-1</td>\n",
       "      <td>-0.932096</td>\n",
       "      <td>-1.026137</td>\n",
       "      <td>97.937086</td>\n",
       "    </tr>\n",
       "    <tr>\n",
       "      <th>1</th>\n",
       "      <td>DH-2</td>\n",
       "      <td>9.439632</td>\n",
       "      <td>0.554131</td>\n",
       "      <td>117.312559</td>\n",
       "    </tr>\n",
       "    <tr>\n",
       "      <th>2</th>\n",
       "      <td>DH-3</td>\n",
       "      <td>17.622817</td>\n",
       "      <td>1.012468</td>\n",
       "      <td>105.339303</td>\n",
       "    </tr>\n",
       "    <tr>\n",
       "      <th>3</th>\n",
       "      <td>DH-4</td>\n",
       "      <td>30.031428</td>\n",
       "      <td>-0.423953</td>\n",
       "      <td>109.858463</td>\n",
       "    </tr>\n",
       "    <tr>\n",
       "      <th>4</th>\n",
       "      <td>DH-5</td>\n",
       "      <td>38.771637</td>\n",
       "      <td>0.830514</td>\n",
       "      <td>90.951326</td>\n",
       "    </tr>\n",
       "    <tr>\n",
       "      <th>...</th>\n",
       "      <td>...</td>\n",
       "      <td>...</td>\n",
       "      <td>...</td>\n",
       "      <td>...</td>\n",
       "    </tr>\n",
       "    <tr>\n",
       "      <th>141</th>\n",
       "      <td>DH-11</td>\n",
       "      <td>100.464807</td>\n",
       "      <td>-0.469951</td>\n",
       "      <td>83.542657</td>\n",
       "    </tr>\n",
       "    <tr>\n",
       "      <th>142</th>\n",
       "      <td>DH-14</td>\n",
       "      <td>20.410898</td>\n",
       "      <td>9.830219</td>\n",
       "      <td>120.103048</td>\n",
       "    </tr>\n",
       "    <tr>\n",
       "      <th>143</th>\n",
       "      <td>DH-110</td>\n",
       "      <td>100.557865</td>\n",
       "      <td>90.514111</td>\n",
       "      <td>105.501339</td>\n",
       "    </tr>\n",
       "    <tr>\n",
       "      <th>144</th>\n",
       "      <td>DH-58</td>\n",
       "      <td>20.139744</td>\n",
       "      <td>50.386479</td>\n",
       "      <td>107.047070</td>\n",
       "    </tr>\n",
       "    <tr>\n",
       "      <th>145</th>\n",
       "      <td>DH-38</td>\n",
       "      <td>39.886049</td>\n",
       "      <td>31.199332</td>\n",
       "      <td>111.433802</td>\n",
       "    </tr>\n",
       "  </tbody>\n",
       "</table>\n",
       "<p>136 rows × 4 columns</p>\n",
       "</div>"
      ],
      "text/plain": [
       "       dhid           x          y           z\n",
       "0      DH-1   -0.932096  -1.026137   97.937086\n",
       "1      DH-2    9.439632   0.554131  117.312559\n",
       "2      DH-3   17.622817   1.012468  105.339303\n",
       "3      DH-4   30.031428  -0.423953  109.858463\n",
       "4      DH-5   38.771637   0.830514   90.951326\n",
       "..      ...         ...        ...         ...\n",
       "141   DH-11  100.464807  -0.469951   83.542657\n",
       "142   DH-14   20.410898   9.830219  120.103048\n",
       "143  DH-110  100.557865  90.514111  105.501339\n",
       "144   DH-58   20.139744  50.386479  107.047070\n",
       "145   DH-38   39.886049  31.199332  111.433802\n",
       "\n",
       "[136 rows x 4 columns]"
      ]
     },
     "metadata": {},
     "output_type": "display_data"
    }
   ],
   "source": [
    "display(collars)"
   ]
  },
  {
   "cell_type": "code",
   "execution_count": 92,
   "metadata": {},
   "outputs": [
    {
     "data": {
      "text/plain": [
       "dhid         DH-11\n",
       "x       100.436391\n",
       "y        -1.248671\n",
       "z        82.953069\n",
       "Name: 10, dtype: object"
      ]
     },
     "execution_count": 92,
     "metadata": {},
     "output_type": "execute_result"
    }
   ],
   "source": [
    "collars.loc[10]"
   ]
  },
  {
   "cell_type": "code",
   "execution_count": 94,
   "metadata": {},
   "outputs": [
    {
     "data": {
      "text/plain": [
       "dhid         DH-10\n",
       "x       100.995884\n",
       "y         0.518798\n",
       "z        97.504703\n",
       "Name: 131, dtype: object"
      ]
     },
     "execution_count": 94,
     "metadata": {},
     "output_type": "execute_result"
    }
   ],
   "source": [
    "collars.loc[131]"
   ]
  }
 ],
 "metadata": {
  "kernelspec": {
   "display_name": "EGSL",
   "language": "python",
   "name": "python3"
  },
  "language_info": {
   "codemirror_mode": {
    "name": "ipython",
    "version": 3
   },
   "file_extension": ".py",
   "mimetype": "text/x-python",
   "name": "python",
   "nbconvert_exporter": "python",
   "pygments_lexer": "ipython3",
   "version": "3.12.5"
  }
 },
 "nbformat": 4,
 "nbformat_minor": 2
}
