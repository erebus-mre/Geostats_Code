{
 "cells": [
  {
   "cell_type": "raw",
   "metadata": {},
   "source": [
    "---\n",
    "title: QKNA using Python.\n",
    "author: \"[Fanie Nel](mailto:fanie.nel@erebus.co.za)\"\n",
    "date: last-modified\n",
    "\n",
    "format:\n",
    "    html:\n",
    "        theme : yeti\n",
    "        toc : true\n",
    "        toc-location : left\n",
    "        number-sections : true\n",
    "        code-fold : show\n",
    "        code-copy : true\n",
    "        code-line-numbers: true\n",
    "        code-overflow: wrap\n",
    "        code-tools: true\n",
    "        title-block-banner : true\n",
    "        self-contained : true\n",
    "        link-external-icon : true\n",
    "---  "
   ]
  },
  {
   "cell_type": "markdown",
   "metadata": {},
   "source": []
  },
  {
   "cell_type": "code",
   "execution_count": null,
   "metadata": {},
   "outputs": [],
   "source": []
  }
 ],
 "metadata": {
  "language_info": {
   "name": "python"
  }
 },
 "nbformat": 4,
 "nbformat_minor": 2
}
